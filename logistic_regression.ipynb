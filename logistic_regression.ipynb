{
 "cells": [
  {
   "cell_type": "markdown",
   "id": "b0af735f-80a6-4714-ab0d-1fda643feece",
   "metadata": {},
   "source": [
    "### Import Dependencies"
   ]
  },
  {
   "cell_type": "code",
   "execution_count": 7,
   "id": "54d85db0-a3d8-4a0e-b370-e29594fc6244",
   "metadata": {},
   "outputs": [],
   "source": [
    "import sys\n",
    "import os\n",
    "import pandas as pd\n",
    "from scipy import stats\n",
    "from sklearn.model_selection import train_test_split\n",
    "from sklearn import linear_model\n",
    "from sklearn import metrics"
   ]
  },
  {
   "cell_type": "markdown",
   "id": "c3d19bec-f57f-49d9-bf28-f59b4dd7d15d",
   "metadata": {},
   "source": [
    "### Initialize Gait Table"
   ]
  },
  {
   "cell_type": "code",
   "execution_count": 8,
   "id": "a3ef38ea-f25b-4b7d-ae55-e7c81be1226e",
   "metadata": {},
   "outputs": [],
   "source": [
    "def gait_df_init():\n",
    "       gait_df = pd.read_csv(\"csv-input/gait-table.csv\", index_col=0)\n",
    "       gait_df.fillna(0)\n",
    "\n",
    "       gait_feats = [\n",
    "              \"Cadence_L\", \"Cadence_R\", \n",
    "              \"DblSupport_L\", \"DblSupport_R\", \n",
    "              \"ElevMidswing_L\", \"ElevMidswing_R\", \n",
    "              \"CycleDur_L\", \"CycleDur_R\",\n",
    "              \"Speed_L\", \"Speed_R\",\n",
    "              \"Circumdxn_L\", \"Circumdxn_R\",\n",
    "              \"HSAngle_L\", \"HSAngle_R\",\n",
    "              \"TOffAngle_L\", \"TOffAngle_R\",\n",
    "              \"SglSupport_L\", \"SglSupport_R\", \n",
    "              \"Stance_L\", \"Stance_R\", \n",
    "              \"StepDur_L\", \"StepDur_R\",\n",
    "              \"StrideLength_L\", \"StrideLength_R\", \n",
    "              \"Swing_L\", \"Swing_R\",\n",
    "              \"TermDblSupport_L\", \"TermDblSupport_R\", \n",
    "              \"ToeOutAngle_L\", \"ToeOutAngle_R\", \n",
    "              \"LumbarCorROM\", \"LumbarSagROM\", \"LumbarTransvROM\",\n",
    "              \"TrunkCorROM\", \"TrunkSagROM\", \"TrunkTransvROM\", \n",
    "              \"ArmSwingVel_L\", \"ArmSwingVel_R\", \"ArmROM_L\", \"ArmROM_R\"\n",
    "       ]\n",
    "\n",
    "       # Group left and right features\n",
    "       feat_dict = {}\n",
    "       updated_gait_feats = []\n",
    "       for feat in gait_feats:\n",
    "              if \"_\" in feat:\n",
    "                     group, side = feat.split(\"_\")\n",
    "                     if group not in feat_dict:\n",
    "                            feat_dict[group] = [\"\", \"\"]\n",
    "                     feat_dict[group][0 if side == \"L\" else 1] = feat\n",
    "              else:\n",
    "                     updated_gait_feats.append(feat)\n",
    "\n",
    "       # Calculate mean between both left and right for feature, append to gait table\n",
    "       for group, [left, right] in feat_dict.items():\n",
    "              gait_df[group] = gait_df[[left, right]].mean(axis=1)\n",
    "\n",
    "       return gait_df"
   ]
  },
  {
   "cell_type": "markdown",
   "id": "db6f8c9c-8649-4eb7-953b-8bfe36c688e5",
   "metadata": {},
   "source": [
    "### Calculate Benefit"
   ]
  },
  {
   "cell_type": "code",
   "execution_count": 9,
   "id": "84654078-71c2-48a9-9ac1-d64c91e81d8c",
   "metadata": {},
   "outputs": [],
   "source": [
    "def calculate_benefit(gait_df, condition, feature):\n",
    "    # Condition\n",
    "    condition_gait_df = gait_df[gait_df[\"Subject\"].str.contains(condition)].reset_index(drop=True)\n",
    "    # Is .dropna() needed?\n",
    "    condition_gait_df = condition_gait_df[[\"Subject\", \"Cycle_Index\", \"Condition\", feature]].pivot_table(index=[\"Subject\", \"Cycle_Index\"], columns=\"Condition\", values=feature).dropna().reset_index()\n",
    "\n",
    "    # Feature\n",
    "    condition_gait_df = condition_gait_df.rename(columns={\"walk\": f\"Initial_{feature}\", \"walkAuditory\": f\"Auditory_{feature}\", \"walkVisual\": f\"Visual_{feature}\"})\n",
    "\n",
    "    pvalue_dict = {}\n",
    "    for subject, subject_df in condition_gait_df.groupby(\"Subject\"):\n",
    "        _, auditory_pvalue = stats.ttest_ind(subject_df[f\"Auditory_{feature}\"], subject_df[f\"Initial_{feature}\"], equal_var=False, alternative=\"greater\")\n",
    "        _, visual_pvalue = stats.ttest_ind(subject_df[f\"Visual_{feature}\"], subject_df[f\"Initial_{feature}\"], equal_var=False, alternative=\"greater\")\n",
    "        pvalue_dict[subject] = (auditory_pvalue, visual_pvalue)\n",
    "\n",
    "    condition_benefit_df = pd.DataFrame([(subject, auditory_pvalue, visual_pvalue) for subject, (auditory_pvalue, visual_pvalue) in pvalue_dict.items()], columns=[\"Subject\", \"Auditory_pvalue\", \"Visual_pvalue\"])\n",
    "    condition_benefit_df[f\"{feature}_Auditory_Benefit\"] = (condition_benefit_df[\"Auditory_pvalue\"] < 0.05).astype(int)\n",
    "    condition_benefit_df[f\"{feature}_Visual_Benefit\"] = (condition_benefit_df[\"Visual_pvalue\"] < 0.05).astype(int)\n",
    "\n",
    "    # OR auditory and visual benefit\n",
    "    condition_benefit_df[f\"{feature}_Benefit\"] = condition_benefit_df[f\"{feature}_Auditory_Benefit\"] | condition_benefit_df[f\"{feature}_Visual_Benefit\"]\n",
    "\n",
    "    return condition_benefit_df\n",
    "\n",
    "\n",
    "def create_benefit_df(gait_df):\n",
    "    # Stride length\n",
    "    stride_benefit_df = calculate_benefit(gait_df, \"PD\", \"StrideLength\")\n",
    "    # Speed\n",
    "    speed_benefit_df = calculate_benefit(gait_df, \"PD\", \"Speed\")\n",
    "\n",
    "    return stride_benefit_df, speed_benefit_df"
   ]
  },
  {
   "cell_type": "markdown",
   "id": "ceb88323",
   "metadata": {},
   "source": [
    "### Prepare Gait Table"
   ]
  },
  {
   "cell_type": "code",
   "execution_count": 10,
   "id": "897e6645",
   "metadata": {},
   "outputs": [],
   "source": [
    "# Prepare gait table\n",
    "def prepare_gait_df(gait_df, pd_stride_benefit_df, condition, feature, queue=\"\", OR=False):\n",
    "    pd_gait_df = gait_df[gait_df[\"Subject\"].str.contains(condition)].reset_index(drop=True)\n",
    "    pd_gait_df = pd_gait_df.groupby([\"Subject\", \"age\", \"group\", \"UPDRS III TOTAL:\"])[[feature]].mean().reset_index()\n",
    "    pd_gait_df = pd_gait_df.rename(columns={feature: f\"Initial_{feature}_Avg\"})\n",
    "    pd_gait_df = pd_gait_df.loc[~(pd_gait_df[\"Subject\"] == \"sub-PD33\")].reset_index(drop=True)  # Exclude sub-PD33, no walk run\n",
    "\n",
    "    pd_log_reg_df = pd_stride_benefit_df.join(pd_gait_df[[\"age\", \"group\", \"UPDRS III TOTAL:\", f\"Initial_{feature}_Avg\"]])\n",
    "    if OR:\n",
    "        pd_log_reg_df = pd_log_reg_df[[\"Subject\", \"age\", \"group\", \"UPDRS III TOTAL:\", f\"Initial_{feature}_Avg\", f\"{feature}_Benefit\"]]\n",
    "    else:\n",
    "        pd_log_reg_df = pd_log_reg_df[[\"Subject\", \"age\", \"group\", \"UPDRS III TOTAL:\", f\"Initial_{feature}_Avg\", f\"{feature}_{queue}_Benefit\"]]\n",
    "    \n",
    "    return pd_log_reg_df"
   ]
  },
  {
   "cell_type": "markdown",
   "id": "b26d6f9f",
   "metadata": {},
   "source": [
    "### Logistic Regression"
   ]
  },
  {
   "cell_type": "code",
   "execution_count": 11,
   "id": "2ded9d66",
   "metadata": {},
   "outputs": [],
   "source": [
    "def log_reg(pd_log_reg_df, feature, queue=\"\", OR=False):\n",
    "    # Train logistic regression model\n",
    "    if OR:\n",
    "        X = pd_log_reg_df.drop(columns=[\"Subject\", f\"{feature}_Benefit\"])\n",
    "        y = pd_log_reg_df[f\"{feature}_Benefit\"]\n",
    "    else:\n",
    "        X = pd_log_reg_df.drop(columns=[\"Subject\", f\"{feature}_{queue}_Benefit\"])\n",
    "        y = pd_log_reg_df[f\"{feature}_{queue}_Benefit\"]\n",
    "    X = pd.get_dummies(X, columns=[\"group\"], drop_first=True)\n",
    "\n",
    "    # 60% data for training, 40% data for testing\n",
    "    X_train, X_test, y_train, y_test = train_test_split(X, y, test_size=0.5, random_state=1)\n",
    "    log_reg = linear_model.LogisticRegression()\n",
    "    log_reg.fit(X_train, y_train)\n",
    "    y_pred = log_reg.predict(X_test)\n",
    "    print(metrics.accuracy_score(y_test, y_pred))"
   ]
  },
  {
   "cell_type": "code",
   "execution_count": 12,
   "id": "a41ca12e-3cce-4186-9e4b-c01a81e55adc",
   "metadata": {},
   "outputs": [
    {
     "name": "stdout",
     "output_type": "stream",
     "text": [
      "0.8235294117647058\n",
      "0.47058823529411764\n",
      "    Subject   age  group  UPDRS III TOTAL:  Initial_StrideLength_Avg  \\\n",
      "0  sub-PD01  64.0  nofog              27.0                  1.153625   \n",
      "1  sub-PD02  82.0  nofog              18.0                  0.985880   \n",
      "2  sub-PD03  82.0  nofog              32.0                  1.112697   \n",
      "3  sub-PD04  72.0    fog              32.0                  0.834839   \n",
      "4  sub-PD05  80.0    fog              32.0                  1.014913   \n",
      "\n",
      "   StrideLength_Benefit  \n",
      "0                     1  \n",
      "1                     1  \n",
      "2                     1  \n",
      "3                     1  \n",
      "4                     1  \n",
      "0.8235294117647058\n",
      "0.8235294117647058\n",
      "0.35294117647058826\n",
      "    Subject   age  group  UPDRS III TOTAL:  Initial_Speed_Avg  Speed_Benefit\n",
      "0  sub-PD01  64.0  nofog              27.0           0.872875              1\n",
      "1  sub-PD02  82.0  nofog              18.0           0.795217              1\n",
      "2  sub-PD03  82.0  nofog              32.0           1.071388              1\n",
      "3  sub-PD04  72.0    fog              32.0           0.750475              1\n",
      "4  sub-PD05  80.0    fog              32.0           0.960581              1\n",
      "0.8823529411764706\n"
     ]
    }
   ],
   "source": [
    "def main():\n",
    "    # Initialize gait table\n",
    "    gait_df = gait_df_init()\n",
    "\n",
    "    # Calculate benefit\n",
    "    pd_stride_benefit_df, pd_speed_benefit_df = create_benefit_df(gait_df)\n",
    "    # Output (for debugging purposes)\n",
    "    pd_stride_benefit_df.to_csv(\"csv-output/stride_benefit_table.csv\")\n",
    "    pd_speed_benefit_df.to_csv(\"csv-output/speed_benefit_table.csv\")\n",
    "    \n",
    "    # Apply logistic regression model\n",
    "\n",
    "    # Stride length\n",
    "\n",
    "    pd_log_reg_df = prepare_gait_df(gait_df, pd_stride_benefit_df, \"PD\", \"StrideLength\", \"Auditory\")\n",
    "    log_reg(pd_log_reg_df, \"StrideLength\", \"Auditory\")  # Auditory\n",
    "    pd_log_reg_df = prepare_gait_df(gait_df, pd_stride_benefit_df, \"PD\", \"StrideLength\", \"Visual\")\n",
    "    log_reg(pd_log_reg_df, \"StrideLength\", \"Visual\")  # Visual\n",
    "    \n",
    "    # Combined (auditory OR visual)\n",
    "    pd_log_reg_df = prepare_gait_df(gait_df, pd_stride_benefit_df, \"PD\", \"StrideLength\", OR=True)\n",
    "    print(pd_log_reg_df.head())\n",
    "    log_reg(pd_log_reg_df, \"StrideLength\", OR=True)\n",
    "\n",
    "    # Speed\n",
    "\n",
    "    pd_log_reg_df = prepare_gait_df(gait_df, pd_speed_benefit_df, \"PD\", \"Speed\", \"Auditory\")\n",
    "    log_reg(pd_log_reg_df, \"Speed\", \"Auditory\")  # Auditory\n",
    "    pd_log_reg_df = prepare_gait_df(gait_df, pd_speed_benefit_df, \"PD\", \"Speed\", \"Visual\")\n",
    "    log_reg(pd_log_reg_df, \"Speed\", \"Visual\")  # Visual\n",
    "\n",
    "    # Combined (auditory OR visual)\n",
    "    pd_log_reg_df = prepare_gait_df(gait_df, pd_speed_benefit_df, \"PD\", \"Speed\", OR=True)\n",
    "    pd_log_reg_df.to_clipboard()\n",
    "    print(pd_log_reg_df.head())\n",
    "    log_reg(pd_log_reg_df, \"Speed\", OR=True)\n",
    "\n",
    "    # Output\n",
    "    pd_log_reg_df.to_csv(\"csv-output/pd_log_reg.csv\")\n",
    "\n",
    "    \n",
    "if __name__ == \"__main__\":\n",
    "    main()"
   ]
  }
 ],
 "metadata": {
  "kernelspec": {
   "display_name": "base",
   "language": "python",
   "name": "python3"
  },
  "language_info": {
   "codemirror_mode": {
    "name": "ipython",
    "version": 3
   },
   "file_extension": ".py",
   "mimetype": "text/x-python",
   "name": "python",
   "nbconvert_exporter": "python",
   "pygments_lexer": "ipython3",
   "version": "3.11.11"
  }
 },
 "nbformat": 4,
 "nbformat_minor": 5
}
